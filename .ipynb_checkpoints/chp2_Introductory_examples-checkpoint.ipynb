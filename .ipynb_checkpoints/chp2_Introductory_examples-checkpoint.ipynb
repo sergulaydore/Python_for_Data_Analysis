{
 "metadata": {
  "name": "",
  "signature": "sha256:2ea337c3ede4afa1db6e0f7a2a1bb09157f6164bd40d508955ac634d72f59e8d"
 },
 "nbformat": 3,
 "nbformat_minor": 0,
 "worksheets": [
  {
   "cells": [
    {
     "cell_type": "code",
     "collapsed": false,
     "input": [
      "%pylab inline"
     ],
     "language": "python",
     "metadata": {},
     "outputs": [
      {
       "output_type": "stream",
       "stream": "stdout",
       "text": [
        "Populating the interactive namespace from numpy and matplotlib\n"
       ]
      }
     ],
     "prompt_number": 3
    },
    {
     "cell_type": "heading",
     "level": 2,
     "metadata": {},
     "source": [
      "1.usa.gov data from bit.ly"
     ]
    },
    {
     "cell_type": "markdown",
     "metadata": {},
     "source": [
      "A feed of anonymous data gathered from users who shorten links ending with .gov and .mil."
     ]
    },
    {
     "cell_type": "code",
     "collapsed": false,
     "input": [
      "path = '/Users/sergulaydore/pydata-book/ch02/usagov_bitly_data2012-03-16-1331923249.txt'"
     ],
     "language": "python",
     "metadata": {},
     "outputs": [],
     "prompt_number": 6
    },
    {
     "cell_type": "code",
     "collapsed": false,
     "input": [
      "open(path).readline() # each line containsa common form of web data known as JSON (JavaScript Object Notation)"
     ],
     "language": "python",
     "metadata": {},
     "outputs": [
      {
       "metadata": {},
       "output_type": "pyout",
       "prompt_number": 7,
       "text": [
        "'{ \"a\": \"Mozilla\\\\/5.0 (Windows NT 6.1; WOW64) AppleWebKit\\\\/535.11 (KHTML, like Gecko) Chrome\\\\/17.0.963.78 Safari\\\\/535.11\", \"c\": \"US\", \"nk\": 1, \"tz\": \"America\\\\/New_York\", \"gr\": \"MA\", \"g\": \"A6qOVH\", \"h\": \"wfLQtf\", \"l\": \"orofrog\", \"al\": \"en-US,en;q=0.8\", \"hh\": \"1.usa.gov\", \"r\": \"http:\\\\/\\\\/www.facebook.com\\\\/l\\\\/7AQEFzjSi\\\\/1.usa.gov\\\\/wfLQtf\", \"u\": \"http:\\\\/\\\\/www.ncbi.nlm.nih.gov\\\\/pubmed\\\\/22415991\", \"t\": 1331923247, \"hc\": 1331822918, \"cy\": \"Danvers\", \"ll\": [ 42.576698, -70.954903 ] }\\n'"
       ]
      }
     ],
     "prompt_number": 7
    },
    {
     "cell_type": "heading",
     "level": 5,
     "metadata": {},
     "source": [
      "importing a JSON string into a Python dictionary"
     ]
    },
    {
     "cell_type": "code",
     "collapsed": false,
     "input": [
      "import json\n",
      "record = [json.loads(line) for line in open(path)]"
     ],
     "language": "python",
     "metadata": {},
     "outputs": [],
     "prompt_number": 8
    },
    {
     "cell_type": "code",
     "collapsed": false,
     "input": [
      "record[0]"
     ],
     "language": "python",
     "metadata": {},
     "outputs": [
      {
       "metadata": {},
       "output_type": "pyout",
       "prompt_number": 9,
       "text": [
        "{u'a': u'Mozilla/5.0 (Windows NT 6.1; WOW64) AppleWebKit/535.11 (KHTML, like Gecko) Chrome/17.0.963.78 Safari/535.11',\n",
        " u'al': u'en-US,en;q=0.8',\n",
        " u'c': u'US',\n",
        " u'cy': u'Danvers',\n",
        " u'g': u'A6qOVH',\n",
        " u'gr': u'MA',\n",
        " u'h': u'wfLQtf',\n",
        " u'hc': 1331822918,\n",
        " u'hh': u'1.usa.gov',\n",
        " u'l': u'orofrog',\n",
        " u'll': [42.576698, -70.954903],\n",
        " u'nk': 1,\n",
        " u'r': u'http://www.facebook.com/l/7AQEFzjSi/1.usa.gov/wfLQtf',\n",
        " u't': 1331923247,\n",
        " u'tz': u'America/New_York',\n",
        " u'u': u'http://www.ncbi.nlm.nih.gov/pubmed/22415991'}"
       ]
      }
     ],
     "prompt_number": 9
    },
    {
     "cell_type": "markdown",
     "metadata": {},
     "source": [
      "The resulting object records is now a list of Python dicts."
     ]
    },
    {
     "cell_type": "code",
     "collapsed": false,
     "input": [
      "record[0]['tz']"
     ],
     "language": "python",
     "metadata": {},
     "outputs": [
      {
       "metadata": {},
       "output_type": "pyout",
       "prompt_number": 11,
       "text": [
        "u'America/New_York'"
       ]
      }
     ],
     "prompt_number": 11
    },
    {
     "cell_type": "heading",
     "level": 2,
     "metadata": {},
     "source": [
      "Counting Time Zones in Pure Python"
     ]
    },
    {
     "cell_type": "code",
     "collapsed": false,
     "input": [
      "time_zones = [rec['tz'] for rec in record if 'tz' in rec]"
     ],
     "language": "python",
     "metadata": {},
     "outputs": [],
     "prompt_number": 13
    },
    {
     "cell_type": "code",
     "collapsed": false,
     "input": [
      "time_zones[:10]"
     ],
     "language": "python",
     "metadata": {},
     "outputs": [
      {
       "metadata": {},
       "output_type": "pyout",
       "prompt_number": 16,
       "text": [
        "[u'America/New_York',\n",
        " u'America/Denver',\n",
        " u'America/New_York',\n",
        " u'America/Sao_Paulo',\n",
        " u'America/New_York',\n",
        " u'America/New_York',\n",
        " u'Europe/Warsaw',\n",
        " u'',\n",
        " u'',\n",
        " u'']"
       ]
      }
     ],
     "prompt_number": 16
    },
    {
     "cell_type": "code",
     "collapsed": false,
     "input": [
      "def get_counts(sequence):\n",
      "    counts = {}\n",
      "    for x in sequence:\n",
      "        if x in counts: \n",
      "            counts[x] +=1\n",
      "        else:\n",
      "            counts[x] = 1\n",
      "    return counts        "
     ],
     "language": "python",
     "metadata": {},
     "outputs": [],
     "prompt_number": 17
    },
    {
     "cell_type": "code",
     "collapsed": false,
     "input": [
      "from collections import defaultdict\n",
      "\n",
      "def get_counts2(sequence):\n",
      "    counts = defaultdict(int) # values will initialize to 0\n",
      "    for x in sequence:\n",
      "        counts[x] +=1\n",
      "    return counts    "
     ],
     "language": "python",
     "metadata": {},
     "outputs": [],
     "prompt_number": 19
    },
    {
     "cell_type": "code",
     "collapsed": false,
     "input": [
      "counts = get_counts(time_zones)"
     ],
     "language": "python",
     "metadata": {},
     "outputs": [],
     "prompt_number": 20
    },
    {
     "cell_type": "code",
     "collapsed": false,
     "input": [
      "counts['America/New_York']"
     ],
     "language": "python",
     "metadata": {},
     "outputs": [
      {
       "metadata": {},
       "output_type": "pyout",
       "prompt_number": 21,
       "text": [
        "1251"
       ]
      }
     ],
     "prompt_number": 21
    },
    {
     "cell_type": "code",
     "collapsed": false,
     "input": [
      "len(time_zones)"
     ],
     "language": "python",
     "metadata": {},
     "outputs": [
      {
       "metadata": {},
       "output_type": "pyout",
       "prompt_number": 22,
       "text": [
        "3440"
       ]
      }
     ],
     "prompt_number": 22
    },
    {
     "cell_type": "markdown",
     "metadata": {},
     "source": [
      "If we wanted the top ten time zones and their counts"
     ]
    },
    {
     "cell_type": "code",
     "collapsed": false,
     "input": [
      "def top_counts(counts_dict,n=10):\n",
      "    value_key_pairs = [(count, tz) for tz,count in counts_dict.items()]\n",
      "    value_key_pairs.sort()\n",
      "    return value_key_pairs[-n:]"
     ],
     "language": "python",
     "metadata": {},
     "outputs": [],
     "prompt_number": 27
    },
    {
     "cell_type": "code",
     "collapsed": false,
     "input": [
      "top_counts(counts)"
     ],
     "language": "python",
     "metadata": {},
     "outputs": [
      {
       "metadata": {},
       "output_type": "pyout",
       "prompt_number": 28,
       "text": [
        "[(33, u'America/Sao_Paulo'),\n",
        " (35, u'Europe/Madrid'),\n",
        " (36, u'Pacific/Honolulu'),\n",
        " (37, u'Asia/Tokyo'),\n",
        " (74, u'Europe/London'),\n",
        " (191, u'America/Denver'),\n",
        " (382, u'America/Los_Angeles'),\n",
        " (400, u'America/Chicago'),\n",
        " (521, u''),\n",
        " (1251, u'America/New_York')]"
       ]
      }
     ],
     "prompt_number": 28
    },
    {
     "cell_type": "markdown",
     "metadata": {},
     "source": [
      "collections.Counter class makes this tak a lot easier."
     ]
    },
    {
     "cell_type": "code",
     "collapsed": false,
     "input": [
      "from collections import Counter"
     ],
     "language": "python",
     "metadata": {},
     "outputs": [],
     "prompt_number": 29
    },
    {
     "cell_type": "code",
     "collapsed": false,
     "input": [
      "counts = Counter(time_zones)"
     ],
     "language": "python",
     "metadata": {},
     "outputs": [],
     "prompt_number": 30
    },
    {
     "cell_type": "code",
     "collapsed": false,
     "input": [
      "counts.most_common(10)"
     ],
     "language": "python",
     "metadata": {},
     "outputs": [
      {
       "metadata": {},
       "output_type": "pyout",
       "prompt_number": 32,
       "text": [
        "[(u'America/New_York', 1251),\n",
        " (u'', 521),\n",
        " (u'America/Chicago', 400),\n",
        " (u'America/Los_Angeles', 382),\n",
        " (u'America/Denver', 191),\n",
        " (u'Europe/London', 74),\n",
        " (u'Asia/Tokyo', 37),\n",
        " (u'Pacific/Honolulu', 36),\n",
        " (u'Europe/Madrid', 35),\n",
        " (u'America/Sao_Paulo', 33)]"
       ]
      }
     ],
     "prompt_number": 32
    },
    {
     "cell_type": "heading",
     "level": 2,
     "metadata": {},
     "source": [
      "Counting Time Zones with pandas"
     ]
    },
    {
     "cell_type": "code",
     "collapsed": false,
     "input": [
      "from pandas import DataFrame, Series"
     ],
     "language": "python",
     "metadata": {},
     "outputs": [],
     "prompt_number": 33
    },
    {
     "cell_type": "code",
     "collapsed": false,
     "input": [
      "import pandas as pd; import numpy as np"
     ],
     "language": "python",
     "metadata": {},
     "outputs": [],
     "prompt_number": 34
    },
    {
     "cell_type": "code",
     "collapsed": false,
     "input": [
      "frame = DataFrame(record)"
     ],
     "language": "python",
     "metadata": {},
     "outputs": [],
     "prompt_number": 36
    },
    {
     "cell_type": "code",
     "collapsed": false,
     "input": [
      "frame.head()"
     ],
     "language": "python",
     "metadata": {},
     "outputs": [
      {
       "html": [
        "<div style=\"max-height:1000px;max-width:1500px;overflow:auto;\">\n",
        "<table border=\"1\" class=\"dataframe\">\n",
        "  <thead>\n",
        "    <tr style=\"text-align: right;\">\n",
        "      <th></th>\n",
        "      <th>_heartbeat_</th>\n",
        "      <th>a</th>\n",
        "      <th>al</th>\n",
        "      <th>c</th>\n",
        "      <th>cy</th>\n",
        "      <th>g</th>\n",
        "      <th>gr</th>\n",
        "      <th>h</th>\n",
        "      <th>hc</th>\n",
        "      <th>hh</th>\n",
        "      <th>kw</th>\n",
        "      <th>l</th>\n",
        "      <th>ll</th>\n",
        "      <th>nk</th>\n",
        "      <th>r</th>\n",
        "      <th>t</th>\n",
        "      <th>tz</th>\n",
        "      <th>u</th>\n",
        "    </tr>\n",
        "  </thead>\n",
        "  <tbody>\n",
        "    <tr>\n",
        "      <th>0</th>\n",
        "      <td>NaN</td>\n",
        "      <td> Mozilla/5.0 (Windows NT 6.1; WOW64) AppleWebKi...</td>\n",
        "      <td> en-US,en;q=0.8</td>\n",
        "      <td> US</td>\n",
        "      <td>    Danvers</td>\n",
        "      <td> A6qOVH</td>\n",
        "      <td> MA</td>\n",
        "      <td> wfLQtf</td>\n",
        "      <td> 1331822918</td>\n",
        "      <td> 1.usa.gov</td>\n",
        "      <td> NaN</td>\n",
        "      <td>  orofrog</td>\n",
        "      <td>  [42.576698, -70.954903]</td>\n",
        "      <td> 1</td>\n",
        "      <td> http://www.facebook.com/l/7AQEFzjSi/1.usa.gov/...</td>\n",
        "      <td> 1331923247</td>\n",
        "      <td>  America/New_York</td>\n",
        "      <td>       http://www.ncbi.nlm.nih.gov/pubmed/22415991</td>\n",
        "    </tr>\n",
        "    <tr>\n",
        "      <th>1</th>\n",
        "      <td>NaN</td>\n",
        "      <td>                            GoogleMaps/RochesterNY</td>\n",
        "      <td>            NaN</td>\n",
        "      <td> US</td>\n",
        "      <td>      Provo</td>\n",
        "      <td> mwszkS</td>\n",
        "      <td> UT</td>\n",
        "      <td> mwszkS</td>\n",
        "      <td> 1308262393</td>\n",
        "      <td>      j.mp</td>\n",
        "      <td> NaN</td>\n",
        "      <td>    bitly</td>\n",
        "      <td> [40.218102, -111.613297]</td>\n",
        "      <td> 0</td>\n",
        "      <td>                          http://www.AwareMap.com/</td>\n",
        "      <td> 1331923249</td>\n",
        "      <td>    America/Denver</td>\n",
        "      <td>       http://www.monroecounty.gov/etc/911/rss.php</td>\n",
        "    </tr>\n",
        "    <tr>\n",
        "      <th>2</th>\n",
        "      <td>NaN</td>\n",
        "      <td> Mozilla/4.0 (compatible; MSIE 8.0; Windows NT ...</td>\n",
        "      <td>          en-US</td>\n",
        "      <td> US</td>\n",
        "      <td> Washington</td>\n",
        "      <td> xxr3Qb</td>\n",
        "      <td> DC</td>\n",
        "      <td> xxr3Qb</td>\n",
        "      <td> 1331919941</td>\n",
        "      <td> 1.usa.gov</td>\n",
        "      <td> NaN</td>\n",
        "      <td>    bitly</td>\n",
        "      <td>    [38.9007, -77.043098]</td>\n",
        "      <td> 1</td>\n",
        "      <td>                              http://t.co/03elZC4Q</td>\n",
        "      <td> 1331923250</td>\n",
        "      <td>  America/New_York</td>\n",
        "      <td> http://boxer.senate.gov/en/press/releases/0316...</td>\n",
        "    </tr>\n",
        "    <tr>\n",
        "      <th>3</th>\n",
        "      <td>NaN</td>\n",
        "      <td> Mozilla/5.0 (Macintosh; Intel Mac OS X 10_6_8)...</td>\n",
        "      <td>          pt-br</td>\n",
        "      <td> BR</td>\n",
        "      <td>       Braz</td>\n",
        "      <td> zCaLwp</td>\n",
        "      <td> 27</td>\n",
        "      <td> zUtuOu</td>\n",
        "      <td> 1331923068</td>\n",
        "      <td> 1.usa.gov</td>\n",
        "      <td> NaN</td>\n",
        "      <td> alelex88</td>\n",
        "      <td> [-23.549999, -46.616699]</td>\n",
        "      <td> 0</td>\n",
        "      <td>                                            direct</td>\n",
        "      <td> 1331923249</td>\n",
        "      <td> America/Sao_Paulo</td>\n",
        "      <td>           http://apod.nasa.gov/apod/ap120312.html</td>\n",
        "    </tr>\n",
        "    <tr>\n",
        "      <th>4</th>\n",
        "      <td>NaN</td>\n",
        "      <td> Mozilla/5.0 (Windows NT 6.1; WOW64) AppleWebKi...</td>\n",
        "      <td> en-US,en;q=0.8</td>\n",
        "      <td> US</td>\n",
        "      <td> Shrewsbury</td>\n",
        "      <td> 9b6kNl</td>\n",
        "      <td> MA</td>\n",
        "      <td> 9b6kNl</td>\n",
        "      <td> 1273672411</td>\n",
        "      <td>    bit.ly</td>\n",
        "      <td> NaN</td>\n",
        "      <td>    bitly</td>\n",
        "      <td>  [42.286499, -71.714699]</td>\n",
        "      <td> 0</td>\n",
        "      <td>               http://www.shrewsbury-ma.gov/selco/</td>\n",
        "      <td> 1331923251</td>\n",
        "      <td>  America/New_York</td>\n",
        "      <td> http://www.shrewsbury-ma.gov/egov/gallery/1341...</td>\n",
        "    </tr>\n",
        "  </tbody>\n",
        "</table>\n",
        "</div>"
       ],
       "metadata": {},
       "output_type": "pyout",
       "prompt_number": 42,
       "text": [
        "   _heartbeat_                                                  a  \\\n",
        "0          NaN  Mozilla/5.0 (Windows NT 6.1; WOW64) AppleWebKi...   \n",
        "1          NaN                             GoogleMaps/RochesterNY   \n",
        "2          NaN  Mozilla/4.0 (compatible; MSIE 8.0; Windows NT ...   \n",
        "3          NaN  Mozilla/5.0 (Macintosh; Intel Mac OS X 10_6_8)...   \n",
        "4          NaN  Mozilla/5.0 (Windows NT 6.1; WOW64) AppleWebKi...   \n",
        "\n",
        "               al   c          cy       g  gr       h          hc         hh  \\\n",
        "0  en-US,en;q=0.8  US     Danvers  A6qOVH  MA  wfLQtf  1331822918  1.usa.gov   \n",
        "1             NaN  US       Provo  mwszkS  UT  mwszkS  1308262393       j.mp   \n",
        "2           en-US  US  Washington  xxr3Qb  DC  xxr3Qb  1331919941  1.usa.gov   \n",
        "3           pt-br  BR        Braz  zCaLwp  27  zUtuOu  1331923068  1.usa.gov   \n",
        "4  en-US,en;q=0.8  US  Shrewsbury  9b6kNl  MA  9b6kNl  1273672411     bit.ly   \n",
        "\n",
        "    kw         l                        ll  nk  \\\n",
        "0  NaN   orofrog   [42.576698, -70.954903]   1   \n",
        "1  NaN     bitly  [40.218102, -111.613297]   0   \n",
        "2  NaN     bitly     [38.9007, -77.043098]   1   \n",
        "3  NaN  alelex88  [-23.549999, -46.616699]   0   \n",
        "4  NaN     bitly   [42.286499, -71.714699]   0   \n",
        "\n",
        "                                                   r           t  \\\n",
        "0  http://www.facebook.com/l/7AQEFzjSi/1.usa.gov/...  1331923247   \n",
        "1                           http://www.AwareMap.com/  1331923249   \n",
        "2                               http://t.co/03elZC4Q  1331923250   \n",
        "3                                             direct  1331923249   \n",
        "4                http://www.shrewsbury-ma.gov/selco/  1331923251   \n",
        "\n",
        "                  tz                                                  u  \n",
        "0   America/New_York        http://www.ncbi.nlm.nih.gov/pubmed/22415991  \n",
        "1     America/Denver        http://www.monroecounty.gov/etc/911/rss.php  \n",
        "2   America/New_York  http://boxer.senate.gov/en/press/releases/0316...  \n",
        "3  America/Sao_Paulo            http://apod.nasa.gov/apod/ap120312.html  \n",
        "4   America/New_York  http://www.shrewsbury-ma.gov/egov/gallery/1341...  "
       ]
      }
     ],
     "prompt_number": 42
    },
    {
     "cell_type": "code",
     "collapsed": false,
     "input": [
      "frame['tz'][:10]"
     ],
     "language": "python",
     "metadata": {},
     "outputs": [
      {
       "metadata": {},
       "output_type": "pyout",
       "prompt_number": 43,
       "text": [
        "0     America/New_York\n",
        "1       America/Denver\n",
        "2     America/New_York\n",
        "3    America/Sao_Paulo\n",
        "4     America/New_York\n",
        "5     America/New_York\n",
        "6        Europe/Warsaw\n",
        "7                     \n",
        "8                     \n",
        "9                     \n",
        "Name: tz, dtype: object"
       ]
      }
     ],
     "prompt_number": 43
    },
    {
     "cell_type": "code",
     "collapsed": false,
     "input": [
      "tz_counts = frame['tz'].value_counts()"
     ],
     "language": "python",
     "metadata": {},
     "outputs": [],
     "prompt_number": 44
    },
    {
     "cell_type": "code",
     "collapsed": false,
     "input": [
      "tz_counts[:10]"
     ],
     "language": "python",
     "metadata": {},
     "outputs": [
      {
       "metadata": {},
       "output_type": "pyout",
       "prompt_number": 45,
       "text": [
        "America/New_York       1251\n",
        "                        521\n",
        "America/Chicago         400\n",
        "America/Los_Angeles     382\n",
        "America/Denver          191\n",
        "Europe/London            74\n",
        "Asia/Tokyo               37\n",
        "Pacific/Honolulu         36\n",
        "Europe/Madrid            35\n",
        "America/Sao_Paulo        33\n",
        "dtype: int64"
       ]
      }
     ],
     "prompt_number": 45
    },
    {
     "cell_type": "code",
     "collapsed": false,
     "input": [
      "clean_tz = frame['tz'].fillna('Missing')"
     ],
     "language": "python",
     "metadata": {},
     "outputs": [],
     "prompt_number": 46
    },
    {
     "cell_type": "code",
     "collapsed": false,
     "input": [
      "clean_tz[clean_tz=='']='Unknown'"
     ],
     "language": "python",
     "metadata": {},
     "outputs": [],
     "prompt_number": 47
    },
    {
     "cell_type": "code",
     "collapsed": false,
     "input": [
      "tz_counts = clean_tz.value_counts()"
     ],
     "language": "python",
     "metadata": {},
     "outputs": [],
     "prompt_number": 48
    },
    {
     "cell_type": "code",
     "collapsed": false,
     "input": [
      "tz_counts[:10]"
     ],
     "language": "python",
     "metadata": {},
     "outputs": [
      {
       "metadata": {},
       "output_type": "pyout",
       "prompt_number": 49,
       "text": [
        "America/New_York       1251\n",
        "Unknown                 521\n",
        "America/Chicago         400\n",
        "America/Los_Angeles     382\n",
        "America/Denver          191\n",
        "Missing                 120\n",
        "Europe/London            74\n",
        "Asia/Tokyo               37\n",
        "Pacific/Honolulu         36\n",
        "Europe/Madrid            35\n",
        "dtype: int64"
       ]
      }
     ],
     "prompt_number": 49
    },
    {
     "cell_type": "code",
     "collapsed": false,
     "input": [
      "tz_counts[:10].plot(kind='barh',rot=0)"
     ],
     "language": "python",
     "metadata": {},
     "outputs": [
      {
       "metadata": {},
       "output_type": "pyout",
       "prompt_number": 50,
       "text": [
        "<matplotlib.axes._subplots.AxesSubplot at 0x1083abd90>"
       ]
      },
      {
       "metadata": {},
       "output_type": "display_data",
       "png": "[encoded data removed]",
       "text": [
        "<matplotlib.figure.Figure at 0x1083f7510>"
       ]
      }
     ],
     "prompt_number": 50
    },
    {
     "cell_type": "markdown",
     "metadata": {},
     "source": [
      "The a field contains information about the browser, device, or application used to perform the URL shortening:"
     ]
    },
    {
     "cell_type": "code",
     "collapsed": false,
     "input": [
      "frame['a'][1]"
     ],
     "language": "python",
     "metadata": {},
     "outputs": [
      {
       "metadata": {},
       "output_type": "pyout",
       "prompt_number": 51,
       "text": [
        "u'GoogleMaps/RochesterNY'"
       ]
      }
     ],
     "prompt_number": 51
    },
    {
     "cell_type": "code",
     "collapsed": false,
     "input": [
      "frame['a'][50]"
     ],
     "language": "python",
     "metadata": {},
     "outputs": [
      {
       "metadata": {},
       "output_type": "pyout",
       "prompt_number": 52,
       "text": [
        "u'Mozilla/5.0 (Windows NT 5.1; rv:10.0.2) Gecko/20100101 Firefox/10.0.2'"
       ]
      }
     ],
     "prompt_number": 52
    },
    {
     "cell_type": "code",
     "collapsed": false,
     "input": [
      "frame['a'][51]"
     ],
     "language": "python",
     "metadata": {},
     "outputs": [
      {
       "metadata": {},
       "output_type": "pyout",
       "prompt_number": 53,
       "text": [
        "u'Mozilla/5.0 (Linux; U; Android 2.2.2; en-us; LG-P925/V10e Build/FRG83G) AppleWebKit/533.1 (KHTML, like Gecko) Version/4.0 Mobile Safari/533.1'"
       ]
      }
     ],
     "prompt_number": 53
    },
    {
     "cell_type": "code",
     "collapsed": false,
     "input": [
      "results = Series([x.split()[0] for x in frame.a.dropna()])"
     ],
     "language": "python",
     "metadata": {},
     "outputs": [],
     "prompt_number": 54
    },
    {
     "cell_type": "code",
     "collapsed": false,
     "input": [
      "results[:5]"
     ],
     "language": "python",
     "metadata": {},
     "outputs": [
      {
       "metadata": {},
       "output_type": "pyout",
       "prompt_number": 55,
       "text": [
        "0               Mozilla/5.0\n",
        "1    GoogleMaps/RochesterNY\n",
        "2               Mozilla/4.0\n",
        "3               Mozilla/5.0\n",
        "4               Mozilla/5.0\n",
        "dtype: object"
       ]
      }
     ],
     "prompt_number": 55
    },
    {
     "cell_type": "code",
     "collapsed": false,
     "input": [
      "results.value_counts()[:8]"
     ],
     "language": "python",
     "metadata": {},
     "outputs": [
      {
       "metadata": {},
       "output_type": "pyout",
       "prompt_number": 56,
       "text": [
        "Mozilla/5.0                 2594\n",
        "Mozilla/4.0                  601\n",
        "GoogleMaps/RochesterNY       121\n",
        "Opera/9.80                    34\n",
        "TEST_INTERNET_AGENT           24\n",
        "GoogleProducer                21\n",
        "Mozilla/6.0                    5\n",
        "BlackBerry8520/5.0.0.681       4\n",
        "dtype: int64"
       ]
      }
     ],
     "prompt_number": 56
    },
    {
     "cell_type": "markdown",
     "metadata": {},
     "source": [
      "Now, suppose you wanted to decompose the top time zones into Windows and non-windows users."
     ]
    },
    {
     "cell_type": "code",
     "collapsed": false,
     "input": [
      "cframe = frame[frame.a.notnull()]"
     ],
     "language": "python",
     "metadata": {},
     "outputs": [],
     "prompt_number": 57
    },
    {
     "cell_type": "code",
     "collapsed": false,
     "input": [
      "operating_system = np.where(cframe['a'].str.contains('Windows'), 'Windows','Not Windows')"
     ],
     "language": "python",
     "metadata": {},
     "outputs": [],
     "prompt_number": 58
    },
    {
     "cell_type": "code",
     "collapsed": false,
     "input": [
      "operating_system[:5]"
     ],
     "language": "python",
     "metadata": {},
     "outputs": [
      {
       "metadata": {},
       "output_type": "pyout",
       "prompt_number": 59,
       "text": [
        "array(['Windows', 'Not Windows', 'Windows', 'Not Windows', 'Windows'], \n",
        "      dtype='|S11')"
       ]
      }
     ],
     "prompt_number": 59
    },
    {
     "cell_type": "markdown",
     "metadata": {},
     "source": [
      "Then, you can group the data by its time zone column and this new list of operating systems:"
     ]
    },
    {
     "cell_type": "code",
     "collapsed": false,
     "input": [
      "by_tz_os = cframe.groupby(['tz', operating_system])"
     ],
     "language": "python",
     "metadata": {},
     "outputs": [],
     "prompt_number": 60
    },
    {
     "cell_type": "markdown",
     "metadata": {},
     "source": [
      "The group counts, analogous to the value counts function above, can be computed using size. This result is then reshaped into a table with unstack:"
     ]
    },
    {
     "cell_type": "code",
     "collapsed": false,
     "input": [
      "agg_counts = by_tz_os.size().unstack().fillna(0)"
     ],
     "language": "python",
     "metadata": {},
     "outputs": [],
     "prompt_number": 61
    },
    {
     "cell_type": "code",
     "collapsed": false,
     "input": [
      "agg_counts[:10]"
     ],
     "language": "python",
     "metadata": {},
     "outputs": [
      {
       "html": [
        "<div style=\"max-height:1000px;max-width:1500px;overflow:auto;\">\n",
        "<table border=\"1\" class=\"dataframe\">\n",
        "  <thead>\n",
        "    <tr style=\"text-align: right;\">\n",
        "      <th></th>\n",
        "      <th>Not Windows</th>\n",
        "      <th>Windows</th>\n",
        "    </tr>\n",
        "    <tr>\n",
        "      <th>tz</th>\n",
        "      <th></th>\n",
        "      <th></th>\n",
        "    </tr>\n",
        "  </thead>\n",
        "  <tbody>\n",
        "    <tr>\n",
        "      <th></th>\n",
        "      <td> 245</td>\n",
        "      <td> 276</td>\n",
        "    </tr>\n",
        "    <tr>\n",
        "      <th>Africa/Cairo</th>\n",
        "      <td>   0</td>\n",
        "      <td>   3</td>\n",
        "    </tr>\n",
        "    <tr>\n",
        "      <th>Africa/Casablanca</th>\n",
        "      <td>   0</td>\n",
        "      <td>   1</td>\n",
        "    </tr>\n",
        "    <tr>\n",
        "      <th>Africa/Ceuta</th>\n",
        "      <td>   0</td>\n",
        "      <td>   2</td>\n",
        "    </tr>\n",
        "    <tr>\n",
        "      <th>Africa/Johannesburg</th>\n",
        "      <td>   0</td>\n",
        "      <td>   1</td>\n",
        "    </tr>\n",
        "    <tr>\n",
        "      <th>Africa/Lusaka</th>\n",
        "      <td>   0</td>\n",
        "      <td>   1</td>\n",
        "    </tr>\n",
        "    <tr>\n",
        "      <th>America/Anchorage</th>\n",
        "      <td>   4</td>\n",
        "      <td>   1</td>\n",
        "    </tr>\n",
        "    <tr>\n",
        "      <th>America/Argentina/Buenos_Aires</th>\n",
        "      <td>   1</td>\n",
        "      <td>   0</td>\n",
        "    </tr>\n",
        "    <tr>\n",
        "      <th>America/Argentina/Cordoba</th>\n",
        "      <td>   0</td>\n",
        "      <td>   1</td>\n",
        "    </tr>\n",
        "    <tr>\n",
        "      <th>America/Argentina/Mendoza</th>\n",
        "      <td>   0</td>\n",
        "      <td>   1</td>\n",
        "    </tr>\n",
        "  </tbody>\n",
        "</table>\n",
        "</div>"
       ],
       "metadata": {},
       "output_type": "pyout",
       "prompt_number": 62,
       "text": [
        "                                Not Windows  Windows\n",
        "tz                                                  \n",
        "                                        245      276\n",
        "Africa/Cairo                              0        3\n",
        "Africa/Casablanca                         0        1\n",
        "Africa/Ceuta                              0        2\n",
        "Africa/Johannesburg                       0        1\n",
        "Africa/Lusaka                             0        1\n",
        "America/Anchorage                         4        1\n",
        "America/Argentina/Buenos_Aires            1        0\n",
        "America/Argentina/Cordoba                 0        1\n",
        "America/Argentina/Mendoza                 0        1"
       ]
      }
     ],
     "prompt_number": 62
    },
    {
     "cell_type": "code",
     "collapsed": false,
     "input": [
      "indexer = agg_counts.sum(1).argsort()"
     ],
     "language": "python",
     "metadata": {},
     "outputs": [],
     "prompt_number": 75
    },
    {
     "cell_type": "code",
     "collapsed": false,
     "input": [
      "indexer[:10]"
     ],
     "language": "python",
     "metadata": {},
     "outputs": [
      {
       "metadata": {},
       "output_type": "pyout",
       "prompt_number": 76,
       "text": [
        "tz\n",
        "                                  24\n",
        "Africa/Cairo                      20\n",
        "Africa/Casablanca                 21\n",
        "Africa/Ceuta                      92\n",
        "Africa/Johannesburg               87\n",
        "Africa/Lusaka                     53\n",
        "America/Anchorage                 54\n",
        "America/Argentina/Buenos_Aires    57\n",
        "America/Argentina/Cordoba         26\n",
        "America/Argentina/Mendoza         55\n",
        "dtype: int64"
       ]
      }
     ],
     "prompt_number": 76
    },
    {
     "cell_type": "markdown",
     "metadata": {},
     "source": [
      "I then use take to select the rows in that order, then slice off the last 10 rows."
     ]
    },
    {
     "cell_type": "code",
     "collapsed": false,
     "input": [
      "count_subset = agg_counts.take(indexer)[-10:]"
     ],
     "language": "python",
     "metadata": {},
     "outputs": [],
     "prompt_number": 77
    },
    {
     "cell_type": "code",
     "collapsed": false,
     "input": [
      "count_subset"
     ],
     "language": "python",
     "metadata": {},
     "outputs": [
      {
       "html": [
        "<div style=\"max-height:1000px;max-width:1500px;overflow:auto;\">\n",
        "<table border=\"1\" class=\"dataframe\">\n",
        "  <thead>\n",
        "    <tr style=\"text-align: right;\">\n",
        "      <th></th>\n",
        "      <th>Not Windows</th>\n",
        "      <th>Windows</th>\n",
        "    </tr>\n",
        "    <tr>\n",
        "      <th>tz</th>\n",
        "      <th></th>\n",
        "      <th></th>\n",
        "    </tr>\n",
        "  </thead>\n",
        "  <tbody>\n",
        "    <tr>\n",
        "      <th>America/Sao_Paulo</th>\n",
        "      <td>  13</td>\n",
        "      <td>  20</td>\n",
        "    </tr>\n",
        "    <tr>\n",
        "      <th>Europe/Madrid</th>\n",
        "      <td>  16</td>\n",
        "      <td>  19</td>\n",
        "    </tr>\n",
        "    <tr>\n",
        "      <th>Pacific/Honolulu</th>\n",
        "      <td>   0</td>\n",
        "      <td>  36</td>\n",
        "    </tr>\n",
        "    <tr>\n",
        "      <th>Asia/Tokyo</th>\n",
        "      <td>   2</td>\n",
        "      <td>  35</td>\n",
        "    </tr>\n",
        "    <tr>\n",
        "      <th>Europe/London</th>\n",
        "      <td>  43</td>\n",
        "      <td>  31</td>\n",
        "    </tr>\n",
        "    <tr>\n",
        "      <th>America/Denver</th>\n",
        "      <td> 132</td>\n",
        "      <td>  59</td>\n",
        "    </tr>\n",
        "    <tr>\n",
        "      <th>America/Los_Angeles</th>\n",
        "      <td> 130</td>\n",
        "      <td> 252</td>\n",
        "    </tr>\n",
        "    <tr>\n",
        "      <th>America/Chicago</th>\n",
        "      <td> 115</td>\n",
        "      <td> 285</td>\n",
        "    </tr>\n",
        "    <tr>\n",
        "      <th></th>\n",
        "      <td> 245</td>\n",
        "      <td> 276</td>\n",
        "    </tr>\n",
        "    <tr>\n",
        "      <th>America/New_York</th>\n",
        "      <td> 339</td>\n",
        "      <td> 912</td>\n",
        "    </tr>\n",
        "  </tbody>\n",
        "</table>\n",
        "</div>"
       ],
       "metadata": {},
       "output_type": "pyout",
       "prompt_number": 78,
       "text": [
        "                     Not Windows  Windows\n",
        "tz                                       \n",
        "America/Sao_Paulo             13       20\n",
        "Europe/Madrid                 16       19\n",
        "Pacific/Honolulu               0       36\n",
        "Asia/Tokyo                     2       35\n",
        "Europe/London                 43       31\n",
        "America/Denver               132       59\n",
        "America/Los_Angeles          130      252\n",
        "America/Chicago              115      285\n",
        "                             245      276\n",
        "America/New_York             339      912"
       ]
      }
     ],
     "prompt_number": 78
    },
    {
     "cell_type": "code",
     "collapsed": false,
     "input": [
      "count_subset.plot(kind = 'barh',stacked = True)"
     ],
     "language": "python",
     "metadata": {},
     "outputs": [
      {
       "metadata": {},
       "output_type": "pyout",
       "prompt_number": 79,
       "text": [
        "<matplotlib.axes._subplots.AxesSubplot at 0x108d1ab10>"
       ]
      },
      {
       "metadata": {},
       "output_type": "display_data",
       "png": "[encoded data removed]",
       "text": [
        "<matplotlib.figure.Figure at 0x108d1a710>"
       ]
      }
     ],
     "prompt_number": 79
    },
    {
     "cell_type": "code",
     "collapsed": false,
     "input": [
      "normed_subset = count_subset.div(count_subset.sum(1),axis=0)"
     ],
     "language": "python",
     "metadata": {},
     "outputs": [],
     "prompt_number": 80
    },
    {
     "cell_type": "code",
     "collapsed": false,
     "input": [
      "normed_subset.plot(kind = 'barh', stacked = True)"
     ],
     "language": "python",
     "metadata": {},
     "outputs": [
      {
       "metadata": {},
       "output_type": "pyout",
       "prompt_number": 81,
       "text": [
        "<matplotlib.axes._subplots.AxesSubplot at 0x108ec0c50>"
       ]
      },
      {
       "metadata": {},
       "output_type": "display_data",
       "png": "[encoded data removed]",
       "text": [
        "<matplotlib.figure.Figure at 0x108d1a550>"
       ]
      }
     ],
     "prompt_number": 81
    },
    {
     "cell_type": "heading",
     "level": 2,
     "metadata": {},
     "source": [
      "MovieLens 1 M Data Set"
     ]
    },
    {
     "cell_type": "code",
     "collapsed": false,
     "input": [
      "path = '/Users/sergulaydore/pydata-book/ch02/movielens/'\n",
      "unames = ['user_id', 'gender', 'age', 'occupation', 'zip']"
     ],
     "language": "python",
     "metadata": {},
     "outputs": [],
     "prompt_number": 83
    },
    {
     "cell_type": "code",
     "collapsed": false,
     "input": [
      "users = pd.read_table(path + 'users.dat', sep = '::', header = None, names = unames)"
     ],
     "language": "python",
     "metadata": {},
     "outputs": [
      {
       "output_type": "stream",
       "stream": "stderr",
       "text": [
        "/Users/sergulaydore/anaconda/lib/python2.7/site-packages/pandas/io/parsers.py:624: ParserWarning: Falling back to the 'python' engine because the 'c' engine does not support regex separators; you can avoid this warning by specifying engine='python'.\n",
        "  ParserWarning)\n"
       ]
      }
     ],
     "prompt_number": 84
    },
    {
     "cell_type": "code",
     "collapsed": false,
     "input": [
      "rnames = ['user_id', 'movie_id', 'rating', 'timestamp']\n",
      "ratings = pd.read_table(path + 'ratings.dat', sep = '::', header = None, names = rnames)"
     ],
     "language": "python",
     "metadata": {},
     "outputs": [],
     "prompt_number": 85
    },
    {
     "cell_type": "code",
     "collapsed": false,
     "input": [
      "mnames = ['movie_id', 'title', 'genres']\n",
      "movies = pd.read_table(path + 'movies.dat', sep='::', header = None, names = mnames)"
     ],
     "language": "python",
     "metadata": {},
     "outputs": [],
     "prompt_number": 86
    },
    {
     "cell_type": "code",
     "collapsed": false,
     "input": [
      "users[:5]"
     ],
     "language": "python",
     "metadata": {},
     "outputs": [
      {
       "html": [
        "<div style=\"max-height:1000px;max-width:1500px;overflow:auto;\">\n",
        "<table border=\"1\" class=\"dataframe\">\n",
        "  <thead>\n",
        "    <tr style=\"text-align: right;\">\n",
        "      <th></th>\n",
        "      <th>user_id</th>\n",
        "      <th>gender</th>\n",
        "      <th>age</th>\n",
        "      <th>occupation</th>\n",
        "      <th>zip</th>\n",
        "    </tr>\n",
        "  </thead>\n",
        "  <tbody>\n",
        "    <tr>\n",
        "      <th>0</th>\n",
        "      <td> 1</td>\n",
        "      <td> F</td>\n",
        "      <td>  1</td>\n",
        "      <td> 10</td>\n",
        "      <td> 48067</td>\n",
        "    </tr>\n",
        "    <tr>\n",
        "      <th>1</th>\n",
        "      <td> 2</td>\n",
        "      <td> M</td>\n",
        "      <td> 56</td>\n",
        "      <td> 16</td>\n",
        "      <td> 70072</td>\n",
        "    </tr>\n",
        "    <tr>\n",
        "      <th>2</th>\n",
        "      <td> 3</td>\n",
        "      <td> M</td>\n",
        "      <td> 25</td>\n",
        "      <td> 15</td>\n",
        "      <td> 55117</td>\n",
        "    </tr>\n",
        "    <tr>\n",
        "      <th>3</th>\n",
        "      <td> 4</td>\n",
        "      <td> M</td>\n",
        "      <td> 45</td>\n",
        "      <td>  7</td>\n",
        "      <td> 02460</td>\n",
        "    </tr>\n",
        "    <tr>\n",
        "      <th>4</th>\n",
        "      <td> 5</td>\n",
        "      <td> M</td>\n",
        "      <td> 25</td>\n",
        "      <td> 20</td>\n",
        "      <td> 55455</td>\n",
        "    </tr>\n",
        "  </tbody>\n",
        "</table>\n",
        "</div>"
       ],
       "metadata": {},
       "output_type": "pyout",
       "prompt_number": 87,
       "text": [
        "   user_id gender  age  occupation    zip\n",
        "0        1      F    1          10  48067\n",
        "1        2      M   56          16  70072\n",
        "2        3      M   25          15  55117\n",
        "3        4      M   45           7  02460\n",
        "4        5      M   25          20  55455"
       ]
      }
     ],
     "prompt_number": 87
    },
    {
     "cell_type": "code",
     "collapsed": false,
     "input": [
      "ratings[:5]"
     ],
     "language": "python",
     "metadata": {},
     "outputs": [
      {
       "html": [
        "<div style=\"max-height:1000px;max-width:1500px;overflow:auto;\">\n",
        "<table border=\"1\" class=\"dataframe\">\n",
        "  <thead>\n",
        "    <tr style=\"text-align: right;\">\n",
        "      <th></th>\n",
        "      <th>user_id</th>\n",
        "      <th>movie_id</th>\n",
        "      <th>rating</th>\n",
        "      <th>timestamp</th>\n",
        "    </tr>\n",
        "  </thead>\n",
        "  <tbody>\n",
        "    <tr>\n",
        "      <th>0</th>\n",
        "      <td> 1</td>\n",
        "      <td> 1193</td>\n",
        "      <td> 5</td>\n",
        "      <td> 978300760</td>\n",
        "    </tr>\n",
        "    <tr>\n",
        "      <th>1</th>\n",
        "      <td> 1</td>\n",
        "      <td>  661</td>\n",
        "      <td> 3</td>\n",
        "      <td> 978302109</td>\n",
        "    </tr>\n",
        "    <tr>\n",
        "      <th>2</th>\n",
        "      <td> 1</td>\n",
        "      <td>  914</td>\n",
        "      <td> 3</td>\n",
        "      <td> 978301968</td>\n",
        "    </tr>\n",
        "    <tr>\n",
        "      <th>3</th>\n",
        "      <td> 1</td>\n",
        "      <td> 3408</td>\n",
        "      <td> 4</td>\n",
        "      <td> 978300275</td>\n",
        "    </tr>\n",
        "    <tr>\n",
        "      <th>4</th>\n",
        "      <td> 1</td>\n",
        "      <td> 2355</td>\n",
        "      <td> 5</td>\n",
        "      <td> 978824291</td>\n",
        "    </tr>\n",
        "  </tbody>\n",
        "</table>\n",
        "</div>"
       ],
       "metadata": {},
       "output_type": "pyout",
       "prompt_number": 88,
       "text": [
        "   user_id  movie_id  rating  timestamp\n",
        "0        1      1193       5  978300760\n",
        "1        1       661       3  978302109\n",
        "2        1       914       3  978301968\n",
        "3        1      3408       4  978300275\n",
        "4        1      2355       5  978824291"
       ]
      }
     ],
     "prompt_number": 88
    },
    {
     "cell_type": "code",
     "collapsed": false,
     "input": [
      "movies[:5]"
     ],
     "language": "python",
     "metadata": {},
     "outputs": [
      {
       "html": [
        "<div style=\"max-height:1000px;max-width:1500px;overflow:auto;\">\n",
        "<table border=\"1\" class=\"dataframe\">\n",
        "  <thead>\n",
        "    <tr style=\"text-align: right;\">\n",
        "      <th></th>\n",
        "      <th>movie_id</th>\n",
        "      <th>title</th>\n",
        "      <th>genres</th>\n",
        "    </tr>\n",
        "  </thead>\n",
        "  <tbody>\n",
        "    <tr>\n",
        "      <th>0</th>\n",
        "      <td> 1</td>\n",
        "      <td>                   Toy Story (1995)</td>\n",
        "      <td>  Animation|Children's|Comedy</td>\n",
        "    </tr>\n",
        "    <tr>\n",
        "      <th>1</th>\n",
        "      <td> 2</td>\n",
        "      <td>                     Jumanji (1995)</td>\n",
        "      <td> Adventure|Children's|Fantasy</td>\n",
        "    </tr>\n",
        "    <tr>\n",
        "      <th>2</th>\n",
        "      <td> 3</td>\n",
        "      <td>            Grumpier Old Men (1995)</td>\n",
        "      <td>               Comedy|Romance</td>\n",
        "    </tr>\n",
        "    <tr>\n",
        "      <th>3</th>\n",
        "      <td> 4</td>\n",
        "      <td>           Waiting to Exhale (1995)</td>\n",
        "      <td>                 Comedy|Drama</td>\n",
        "    </tr>\n",
        "    <tr>\n",
        "      <th>4</th>\n",
        "      <td> 5</td>\n",
        "      <td> Father of the Bride Part II (1995)</td>\n",
        "      <td>                       Comedy</td>\n",
        "    </tr>\n",
        "  </tbody>\n",
        "</table>\n",
        "</div>"
       ],
       "metadata": {},
       "output_type": "pyout",
       "prompt_number": 89,
       "text": [
        "   movie_id                               title                        genres\n",
        "0         1                    Toy Story (1995)   Animation|Children's|Comedy\n",
        "1         2                      Jumanji (1995)  Adventure|Children's|Fantasy\n",
        "2         3             Grumpier Old Men (1995)                Comedy|Romance\n",
        "3         4            Waiting to Exhale (1995)                  Comedy|Drama\n",
        "4         5  Father of the Bride Part II (1995)                        Comedy"
       ]
      }
     ],
     "prompt_number": 89
    },
    {
     "cell_type": "code",
     "collapsed": false,
     "input": [
      "data = pd.merge(pd.merge(ratings,users), movies)"
     ],
     "language": "python",
     "metadata": {},
     "outputs": [],
     "prompt_number": 90
    },
    {
     "cell_type": "code",
     "collapsed": false,
     "input": [
      "data.head()"
     ],
     "language": "python",
     "metadata": {},
     "outputs": [
      {
       "html": [
        "<div style=\"max-height:1000px;max-width:1500px;overflow:auto;\">\n",
        "<table border=\"1\" class=\"dataframe\">\n",
        "  <thead>\n",
        "    <tr style=\"text-align: right;\">\n",
        "      <th></th>\n",
        "      <th>user_id</th>\n",
        "      <th>movie_id</th>\n",
        "      <th>rating</th>\n",
        "      <th>timestamp</th>\n",
        "      <th>gender</th>\n",
        "      <th>age</th>\n",
        "      <th>occupation</th>\n",
        "      <th>zip</th>\n",
        "      <th>title</th>\n",
        "      <th>genres</th>\n",
        "    </tr>\n",
        "  </thead>\n",
        "  <tbody>\n",
        "    <tr>\n",
        "      <th>0</th>\n",
        "      <td>  1</td>\n",
        "      <td> 1193</td>\n",
        "      <td> 5</td>\n",
        "      <td> 978300760</td>\n",
        "      <td> F</td>\n",
        "      <td>  1</td>\n",
        "      <td> 10</td>\n",
        "      <td> 48067</td>\n",
        "      <td> One Flew Over the Cuckoo's Nest (1975)</td>\n",
        "      <td> Drama</td>\n",
        "    </tr>\n",
        "    <tr>\n",
        "      <th>1</th>\n",
        "      <td>  2</td>\n",
        "      <td> 1193</td>\n",
        "      <td> 5</td>\n",
        "      <td> 978298413</td>\n",
        "      <td> M</td>\n",
        "      <td> 56</td>\n",
        "      <td> 16</td>\n",
        "      <td> 70072</td>\n",
        "      <td> One Flew Over the Cuckoo's Nest (1975)</td>\n",
        "      <td> Drama</td>\n",
        "    </tr>\n",
        "    <tr>\n",
        "      <th>2</th>\n",
        "      <td> 12</td>\n",
        "      <td> 1193</td>\n",
        "      <td> 4</td>\n",
        "      <td> 978220179</td>\n",
        "      <td> M</td>\n",
        "      <td> 25</td>\n",
        "      <td> 12</td>\n",
        "      <td> 32793</td>\n",
        "      <td> One Flew Over the Cuckoo's Nest (1975)</td>\n",
        "      <td> Drama</td>\n",
        "    </tr>\n",
        "    <tr>\n",
        "      <th>3</th>\n",
        "      <td> 15</td>\n",
        "      <td> 1193</td>\n",
        "      <td> 4</td>\n",
        "      <td> 978199279</td>\n",
        "      <td> M</td>\n",
        "      <td> 25</td>\n",
        "      <td>  7</td>\n",
        "      <td> 22903</td>\n",
        "      <td> One Flew Over the Cuckoo's Nest (1975)</td>\n",
        "      <td> Drama</td>\n",
        "    </tr>\n",
        "    <tr>\n",
        "      <th>4</th>\n",
        "      <td> 17</td>\n",
        "      <td> 1193</td>\n",
        "      <td> 5</td>\n",
        "      <td> 978158471</td>\n",
        "      <td> M</td>\n",
        "      <td> 50</td>\n",
        "      <td>  1</td>\n",
        "      <td> 95350</td>\n",
        "      <td> One Flew Over the Cuckoo's Nest (1975)</td>\n",
        "      <td> Drama</td>\n",
        "    </tr>\n",
        "  </tbody>\n",
        "</table>\n",
        "</div>"
       ],
       "metadata": {},
       "output_type": "pyout",
       "prompt_number": 92,
       "text": [
        "   user_id  movie_id  rating  timestamp gender  age  occupation    zip  \\\n",
        "0        1      1193       5  978300760      F    1          10  48067   \n",
        "1        2      1193       5  978298413      M   56          16  70072   \n",
        "2       12      1193       4  978220179      M   25          12  32793   \n",
        "3       15      1193       4  978199279      M   25           7  22903   \n",
        "4       17      1193       5  978158471      M   50           1  95350   \n",
        "\n",
        "                                    title genres  \n",
        "0  One Flew Over the Cuckoo's Nest (1975)  Drama  \n",
        "1  One Flew Over the Cuckoo's Nest (1975)  Drama  \n",
        "2  One Flew Over the Cuckoo's Nest (1975)  Drama  \n",
        "3  One Flew Over the Cuckoo's Nest (1975)  Drama  \n",
        "4  One Flew Over the Cuckoo's Nest (1975)  Drama  "
       ]
      }
     ],
     "prompt_number": 92
    },
    {
     "cell_type": "code",
     "collapsed": false,
     "input": [
      "data.ix[0]"
     ],
     "language": "python",
     "metadata": {},
     "outputs": [
      {
       "metadata": {},
       "output_type": "pyout",
       "prompt_number": 93,
       "text": [
        "user_id                                            1\n",
        "movie_id                                        1193\n",
        "rating                                             5\n",
        "timestamp                                  978300760\n",
        "gender                                             F\n",
        "age                                                1\n",
        "occupation                                        10\n",
        "zip                                            48067\n",
        "title         One Flew Over the Cuckoo's Nest (1975)\n",
        "genres                                         Drama\n",
        "Name: 0, dtype: object"
       ]
      }
     ],
     "prompt_number": 93
    },
    {
     "cell_type": "markdown",
     "metadata": {},
     "source": [
      "To get mean movie ratings for each film grouped by gender, we can use the pivot_table method:"
     ]
    },
    {
     "cell_type": "code",
     "collapsed": false,
     "input": [
      "mean_ratings = data.pivot_table('rating',rows='title',cols='gender',aggfunc = 'mean') "
     ],
     "language": "python",
     "metadata": {},
     "outputs": [
      {
       "output_type": "stream",
       "stream": "stderr",
       "text": [
        "/Users/sergulaydore/anaconda/lib/python2.7/site-packages/pandas/util/decorators.py:53: FutureWarning: cols is deprecated, use columns instead\n",
        "  warnings.warn(msg, FutureWarning)\n",
        "/Users/sergulaydore/anaconda/lib/python2.7/site-packages/pandas/util/decorators.py:53: FutureWarning: rows is deprecated, use index instead\n",
        "  warnings.warn(msg, FutureWarning)\n"
       ]
      }
     ],
     "prompt_number": 94
    },
    {
     "cell_type": "code",
     "collapsed": false,
     "input": [
      "mean_ratings[:5]"
     ],
     "language": "python",
     "metadata": {},
     "outputs": [
      {
       "html": [
        "<div style=\"max-height:1000px;max-width:1500px;overflow:auto;\">\n",
        "<table border=\"1\" class=\"dataframe\">\n",
        "  <thead>\n",
        "    <tr style=\"text-align: right;\">\n",
        "      <th>gender</th>\n",
        "      <th>F</th>\n",
        "      <th>M</th>\n",
        "    </tr>\n",
        "    <tr>\n",
        "      <th>title</th>\n",
        "      <th></th>\n",
        "      <th></th>\n",
        "    </tr>\n",
        "  </thead>\n",
        "  <tbody>\n",
        "    <tr>\n",
        "      <th>$1,000,000 Duck (1971)</th>\n",
        "      <td> 3.375000</td>\n",
        "      <td> 2.761905</td>\n",
        "    </tr>\n",
        "    <tr>\n",
        "      <th>'Night Mother (1986)</th>\n",
        "      <td> 3.388889</td>\n",
        "      <td> 3.352941</td>\n",
        "    </tr>\n",
        "    <tr>\n",
        "      <th>'Til There Was You (1997)</th>\n",
        "      <td> 2.675676</td>\n",
        "      <td> 2.733333</td>\n",
        "    </tr>\n",
        "    <tr>\n",
        "      <th>'burbs, The (1989)</th>\n",
        "      <td> 2.793478</td>\n",
        "      <td> 2.962085</td>\n",
        "    </tr>\n",
        "    <tr>\n",
        "      <th>...And Justice for All (1979)</th>\n",
        "      <td> 3.828571</td>\n",
        "      <td> 3.689024</td>\n",
        "    </tr>\n",
        "  </tbody>\n",
        "</table>\n",
        "</div>"
       ],
       "metadata": {},
       "output_type": "pyout",
       "prompt_number": 95,
       "text": [
        "gender                                F         M\n",
        "title                                            \n",
        "$1,000,000 Duck (1971)         3.375000  2.761905\n",
        "'Night Mother (1986)           3.388889  3.352941\n",
        "'Til There Was You (1997)      2.675676  2.733333\n",
        "'burbs, The (1989)             2.793478  2.962085\n",
        "...And Justice for All (1979)  3.828571  3.689024"
       ]
      }
     ],
     "prompt_number": 95
    },
    {
     "cell_type": "code",
     "collapsed": false,
     "input": [
      "ratings_by_title = data.groupby('title').size()"
     ],
     "language": "python",
     "metadata": {},
     "outputs": [],
     "prompt_number": 100
    },
    {
     "cell_type": "code",
     "collapsed": false,
     "input": [
      "ratings_by_title[:10]"
     ],
     "language": "python",
     "metadata": {},
     "outputs": [
      {
       "metadata": {},
       "output_type": "pyout",
       "prompt_number": 101,
       "text": [
        "title\n",
        "$1,000,000 Duck (1971)                37\n",
        "'Night Mother (1986)                  70\n",
        "'Til There Was You (1997)             52\n",
        "'burbs, The (1989)                   303\n",
        "...And Justice for All (1979)        199\n",
        "1-900 (1994)                           2\n",
        "10 Things I Hate About You (1999)    700\n",
        "101 Dalmatians (1961)                565\n",
        "101 Dalmatians (1996)                364\n",
        "12 Angry Men (1957)                  616\n",
        "dtype: int64"
       ]
      }
     ],
     "prompt_number": 101
    },
    {
     "cell_type": "code",
     "collapsed": false,
     "input": [
      "active_titles = ratings_by_title.index[ratings_by_title >= 250]"
     ],
     "language": "python",
     "metadata": {},
     "outputs": [],
     "prompt_number": 102
    },
    {
     "cell_type": "code",
     "collapsed": false,
     "input": [
      "active_titles"
     ],
     "language": "python",
     "metadata": {},
     "outputs": [
      {
       "metadata": {},
       "output_type": "pyout",
       "prompt_number": 103,
       "text": [
        "Index([u''burbs, The (1989)', u'10 Things I Hate About You (1999)', u'101 Dalmatians (1961)', u'101 Dalmatians (1996)', u'12 Angry Men (1957)', u'13th Warrior, The (1999)', u'2 Days in the Valley (1996)', u'20,000 Leagues Under the Sea (1954)', u'2001: A Space Odyssey (1968)', u'2010 (1984)', u'28 Days (2000)', u'39 Steps, The (1935)', u'54 (1998)', u'7th Voyage of Sinbad, The (1958)', u'8MM (1999)', u'About Last Night... (1986)', u'Absent Minded Professor, The (1961)', u'Absolute Power (1997)', u'Abyss, The (1989)', u'Ace Ventura: Pet Detective (1994)', u'Ace Ventura: When Nature Calls (1995)', u'Addams Family Values (1993)', u'Addams Family, The (1991)', u'Adventures in Babysitting (1987)', u'Adventures of Buckaroo Bonzai Across the 8th Dimension, The (1984)', u'Adventures of Priscilla, Queen of the Desert, The (1994)', u'Adventures of Robin Hood, The (1938)', u'African Queen, The (1951)', u'Age of Innocence, The (1993)', u'Agnes of God (1985)', u'Air America (1990)', u'Air Force One (1997)', u'Airplane II: The Sequel (1982)', u'Airplane! (1980)', u'Akira (1988)', u'Aladdin (1992)', u'Alice in Wonderland (1951)', u'Alien (1979)', u'Alien Nation (1988)', u'Alien: Resurrection (1997)', u'Aliens (1986)', u'Alien\ufffd (1992)', u'Alive (1993)', u'All About Eve (1950)', u'All About My Mother (Todo Sobre Mi Madre) (1999)', u'All Quiet on the Western Front (1930)', u'All That Jazz (1979)', u'Almost Famous (2000)', u'Amadeus (1984)', u'American Beauty (1999)', u'American Gigolo (1980)', u'American Graffiti (1973)', u'American History X (1998)', u'American Movie (1999)', u'American Pie (1999)', u'American President, The (1995)', u'American Psycho (2000)', u'American Tail, An (1986)', u'American Werewolf in London, An (1981)', u'American Werewolf in Paris, An (1997)', u'American in Paris, An (1951)', u'Amistad (1997)', u'Amityville Horror, The (1979)', u'Anaconda (1997)', u'Analyze This (1999)', u'Anastasia (1997)', u'And Now for Something Completely Different (1971)', u'Angel Heart (1987)', u'Animal House (1978)', u'Anna and the King (1999)', u'Annie Hall (1977)', u'Antz (1998)', u'Any Given Sunday (1999)', u'Apartment, The (1960)', u'Apocalypse Now (1979)', u'Apollo 13 (1995)', u'Apostle, The (1997)', u'Arachnophobia (1990)', u'Aristocats, The (1970)', u'Arlington Road (1999)', u'Armageddon (1998)', u'Army of Darkness (1993)', u'Around the World in 80 Days (1956)', u'Arrival, The (1996)', u'Arsenic and Old Lace (1944)', u'Arthur (1981)', u'As Good As It Gets (1997)', u'Astronaut's Wife, The (1999)', u'Atlantic City (1980)', u'Auntie Mame (1958)', u'Austin Powers: International Man of Mystery (1997)', u'Austin Powers: The Spy Who Shagged Me (1999)', u'Avengers, The (1998)', u'Awakenings (1990)', u'Babe (1995)', u'Babe: Pig in the City (1998)', u'Bachelor Party (1984)', u'Bachelor, The (1999)', u'Back to School (1986)', u'Back to the Future (1985)', ...], dtype='object')"
       ]
      }
     ],
     "prompt_number": 103
    },
    {
     "cell_type": "markdown",
     "metadata": {},
     "source": [
      "The index of titles receiving at least 250 ratings can then be used to select rows from mean_ratings above:"
     ]
    },
    {
     "cell_type": "code",
     "collapsed": false,
     "input": [
      "mean_ratings = mean_ratings.ix[active_titles]"
     ],
     "language": "python",
     "metadata": {},
     "outputs": [],
     "prompt_number": 104
    },
    {
     "cell_type": "code",
     "collapsed": false,
     "input": [
      "mean_ratings.head()"
     ],
     "language": "python",
     "metadata": {},
     "outputs": [
      {
       "html": [
        "<div style=\"max-height:1000px;max-width:1500px;overflow:auto;\">\n",
        "<table border=\"1\" class=\"dataframe\">\n",
        "  <thead>\n",
        "    <tr style=\"text-align: right;\">\n",
        "      <th>gender</th>\n",
        "      <th>F</th>\n",
        "      <th>M</th>\n",
        "    </tr>\n",
        "    <tr>\n",
        "      <th>title</th>\n",
        "      <th></th>\n",
        "      <th></th>\n",
        "    </tr>\n",
        "  </thead>\n",
        "  <tbody>\n",
        "    <tr>\n",
        "      <th>'burbs, The (1989)</th>\n",
        "      <td> 2.793478</td>\n",
        "      <td> 2.962085</td>\n",
        "    </tr>\n",
        "    <tr>\n",
        "      <th>10 Things I Hate About You (1999)</th>\n",
        "      <td> 3.646552</td>\n",
        "      <td> 3.311966</td>\n",
        "    </tr>\n",
        "    <tr>\n",
        "      <th>101 Dalmatians (1961)</th>\n",
        "      <td> 3.791444</td>\n",
        "      <td> 3.500000</td>\n",
        "    </tr>\n",
        "    <tr>\n",
        "      <th>101 Dalmatians (1996)</th>\n",
        "      <td> 3.240000</td>\n",
        "      <td> 2.911215</td>\n",
        "    </tr>\n",
        "    <tr>\n",
        "      <th>12 Angry Men (1957)</th>\n",
        "      <td> 4.184397</td>\n",
        "      <td> 4.328421</td>\n",
        "    </tr>\n",
        "  </tbody>\n",
        "</table>\n",
        "</div>"
       ],
       "metadata": {},
       "output_type": "pyout",
       "prompt_number": 106,
       "text": [
        "gender                                    F         M\n",
        "title                                                \n",
        "'burbs, The (1989)                 2.793478  2.962085\n",
        "10 Things I Hate About You (1999)  3.646552  3.311966\n",
        "101 Dalmatians (1961)              3.791444  3.500000\n",
        "101 Dalmatians (1996)              3.240000  2.911215\n",
        "12 Angry Men (1957)                4.184397  4.328421"
       ]
      }
     ],
     "prompt_number": 106
    },
    {
     "cell_type": "markdown",
     "metadata": {},
     "source": [
      "To see the top films among female viewers, we can sort by the F column in descending order:"
     ]
    },
    {
     "cell_type": "code",
     "collapsed": false,
     "input": [
      "top_female_ratings = mean_ratings.sort_index(by = 'F', ascending = False)"
     ],
     "language": "python",
     "metadata": {},
     "outputs": [],
     "prompt_number": 109
    },
    {
     "cell_type": "code",
     "collapsed": false,
     "input": [
      "top_female_ratings[:10]"
     ],
     "language": "python",
     "metadata": {},
     "outputs": [
      {
       "html": [
        "<div style=\"max-height:1000px;max-width:1500px;overflow:auto;\">\n",
        "<table border=\"1\" class=\"dataframe\">\n",
        "  <thead>\n",
        "    <tr style=\"text-align: right;\">\n",
        "      <th>gender</th>\n",
        "      <th>F</th>\n",
        "      <th>M</th>\n",
        "    </tr>\n",
        "    <tr>\n",
        "      <th>title</th>\n",
        "      <th></th>\n",
        "      <th></th>\n",
        "    </tr>\n",
        "  </thead>\n",
        "  <tbody>\n",
        "    <tr>\n",
        "      <th>Close Shave, A (1995)</th>\n",
        "      <td> 4.644444</td>\n",
        "      <td> 4.473795</td>\n",
        "    </tr>\n",
        "    <tr>\n",
        "      <th>Wrong Trousers, The (1993)</th>\n",
        "      <td> 4.588235</td>\n",
        "      <td> 4.478261</td>\n",
        "    </tr>\n",
        "    <tr>\n",
        "      <th>Sunset Blvd. (a.k.a. Sunset Boulevard) (1950)</th>\n",
        "      <td> 4.572650</td>\n",
        "      <td> 4.464589</td>\n",
        "    </tr>\n",
        "    <tr>\n",
        "      <th>Wallace &amp; Gromit: The Best of Aardman Animation (1996)</th>\n",
        "      <td> 4.563107</td>\n",
        "      <td> 4.385075</td>\n",
        "    </tr>\n",
        "    <tr>\n",
        "      <th>Schindler's List (1993)</th>\n",
        "      <td> 4.562602</td>\n",
        "      <td> 4.491415</td>\n",
        "    </tr>\n",
        "    <tr>\n",
        "      <th>Shawshank Redemption, The (1994)</th>\n",
        "      <td> 4.539075</td>\n",
        "      <td> 4.560625</td>\n",
        "    </tr>\n",
        "    <tr>\n",
        "      <th>Grand Day Out, A (1992)</th>\n",
        "      <td> 4.537879</td>\n",
        "      <td> 4.293255</td>\n",
        "    </tr>\n",
        "    <tr>\n",
        "      <th>To Kill a Mockingbird (1962)</th>\n",
        "      <td> 4.536667</td>\n",
        "      <td> 4.372611</td>\n",
        "    </tr>\n",
        "    <tr>\n",
        "      <th>Creature Comforts (1990)</th>\n",
        "      <td> 4.513889</td>\n",
        "      <td> 4.272277</td>\n",
        "    </tr>\n",
        "    <tr>\n",
        "      <th>Usual Suspects, The (1995)</th>\n",
        "      <td> 4.513317</td>\n",
        "      <td> 4.518248</td>\n",
        "    </tr>\n",
        "  </tbody>\n",
        "</table>\n",
        "</div>"
       ],
       "metadata": {},
       "output_type": "pyout",
       "prompt_number": 110,
       "text": [
        "gender                                                         F         M\n",
        "title                                                                     \n",
        "Close Shave, A (1995)                                   4.644444  4.473795\n",
        "Wrong Trousers, The (1993)                              4.588235  4.478261\n",
        "Sunset Blvd. (a.k.a. Sunset Boulevard) (1950)           4.572650  4.464589\n",
        "Wallace & Gromit: The Best of Aardman Animation (1996)  4.563107  4.385075\n",
        "Schindler's List (1993)                                 4.562602  4.491415\n",
        "Shawshank Redemption, The (1994)                        4.539075  4.560625\n",
        "Grand Day Out, A (1992)                                 4.537879  4.293255\n",
        "To Kill a Mockingbird (1962)                            4.536667  4.372611\n",
        "Creature Comforts (1990)                                4.513889  4.272277\n",
        "Usual Suspects, The (1995)                              4.513317  4.518248"
       ]
      }
     ],
     "prompt_number": 110
    },
    {
     "cell_type": "heading",
     "level": 2,
     "metadata": {},
     "source": [
      "Measuring rating disagreement"
     ]
    },
    {
     "cell_type": "code",
     "collapsed": false,
     "input": [
      "mean_ratings['diff'] = mean_ratings['M']-mean_ratings['F']"
     ],
     "language": "python",
     "metadata": {},
     "outputs": [],
     "prompt_number": 111
    },
    {
     "cell_type": "code",
     "collapsed": false,
     "input": [
      "sorted_by_diff = mean_ratings.sort_index(by='diff')"
     ],
     "language": "python",
     "metadata": {},
     "outputs": [],
     "prompt_number": 112
    },
    {
     "cell_type": "code",
     "collapsed": false,
     "input": [
      "sorted_by_diff[:15]"
     ],
     "language": "python",
     "metadata": {},
     "outputs": [
      {
       "html": [
        "<div style=\"max-height:1000px;max-width:1500px;overflow:auto;\">\n",
        "<table border=\"1\" class=\"dataframe\">\n",
        "  <thead>\n",
        "    <tr style=\"text-align: right;\">\n",
        "      <th>gender</th>\n",
        "      <th>F</th>\n",
        "      <th>M</th>\n",
        "      <th>diff</th>\n",
        "    </tr>\n",
        "    <tr>\n",
        "      <th>title</th>\n",
        "      <th></th>\n",
        "      <th></th>\n",
        "      <th></th>\n",
        "    </tr>\n",
        "  </thead>\n",
        "  <tbody>\n",
        "    <tr>\n",
        "      <th>Dirty Dancing (1987)</th>\n",
        "      <td> 3.790378</td>\n",
        "      <td> 2.959596</td>\n",
        "      <td>-0.830782</td>\n",
        "    </tr>\n",
        "    <tr>\n",
        "      <th>Jumpin' Jack Flash (1986)</th>\n",
        "      <td> 3.254717</td>\n",
        "      <td> 2.578358</td>\n",
        "      <td>-0.676359</td>\n",
        "    </tr>\n",
        "    <tr>\n",
        "      <th>Grease (1978)</th>\n",
        "      <td> 3.975265</td>\n",
        "      <td> 3.367041</td>\n",
        "      <td>-0.608224</td>\n",
        "    </tr>\n",
        "    <tr>\n",
        "      <th>Little Women (1994)</th>\n",
        "      <td> 3.870588</td>\n",
        "      <td> 3.321739</td>\n",
        "      <td>-0.548849</td>\n",
        "    </tr>\n",
        "    <tr>\n",
        "      <th>Steel Magnolias (1989)</th>\n",
        "      <td> 3.901734</td>\n",
        "      <td> 3.365957</td>\n",
        "      <td>-0.535777</td>\n",
        "    </tr>\n",
        "    <tr>\n",
        "      <th>Anastasia (1997)</th>\n",
        "      <td> 3.800000</td>\n",
        "      <td> 3.281609</td>\n",
        "      <td>-0.518391</td>\n",
        "    </tr>\n",
        "    <tr>\n",
        "      <th>Rocky Horror Picture Show, The (1975)</th>\n",
        "      <td> 3.673016</td>\n",
        "      <td> 3.160131</td>\n",
        "      <td>-0.512885</td>\n",
        "    </tr>\n",
        "    <tr>\n",
        "      <th>Color Purple, The (1985)</th>\n",
        "      <td> 4.158192</td>\n",
        "      <td> 3.659341</td>\n",
        "      <td>-0.498851</td>\n",
        "    </tr>\n",
        "    <tr>\n",
        "      <th>Age of Innocence, The (1993)</th>\n",
        "      <td> 3.827068</td>\n",
        "      <td> 3.339506</td>\n",
        "      <td>-0.487561</td>\n",
        "    </tr>\n",
        "    <tr>\n",
        "      <th>Free Willy (1993)</th>\n",
        "      <td> 2.921348</td>\n",
        "      <td> 2.438776</td>\n",
        "      <td>-0.482573</td>\n",
        "    </tr>\n",
        "    <tr>\n",
        "      <th>French Kiss (1995)</th>\n",
        "      <td> 3.535714</td>\n",
        "      <td> 3.056962</td>\n",
        "      <td>-0.478752</td>\n",
        "    </tr>\n",
        "    <tr>\n",
        "      <th>Little Shop of Horrors, The (1960)</th>\n",
        "      <td> 3.650000</td>\n",
        "      <td> 3.179688</td>\n",
        "      <td>-0.470312</td>\n",
        "    </tr>\n",
        "    <tr>\n",
        "      <th>Guys and Dolls (1955)</th>\n",
        "      <td> 4.051724</td>\n",
        "      <td> 3.583333</td>\n",
        "      <td>-0.468391</td>\n",
        "    </tr>\n",
        "    <tr>\n",
        "      <th>Mary Poppins (1964)</th>\n",
        "      <td> 4.197740</td>\n",
        "      <td> 3.730594</td>\n",
        "      <td>-0.467147</td>\n",
        "    </tr>\n",
        "    <tr>\n",
        "      <th>Patch Adams (1998)</th>\n",
        "      <td> 3.473282</td>\n",
        "      <td> 3.008746</td>\n",
        "      <td>-0.464536</td>\n",
        "    </tr>\n",
        "  </tbody>\n",
        "</table>\n",
        "</div>"
       ],
       "metadata": {},
       "output_type": "pyout",
       "prompt_number": 113,
       "text": [
        "gender                                        F         M      diff\n",
        "title                                                              \n",
        "Dirty Dancing (1987)                   3.790378  2.959596 -0.830782\n",
        "Jumpin' Jack Flash (1986)              3.254717  2.578358 -0.676359\n",
        "Grease (1978)                          3.975265  3.367041 -0.608224\n",
        "Little Women (1994)                    3.870588  3.321739 -0.548849\n",
        "Steel Magnolias (1989)                 3.901734  3.365957 -0.535777\n",
        "Anastasia (1997)                       3.800000  3.281609 -0.518391\n",
        "Rocky Horror Picture Show, The (1975)  3.673016  3.160131 -0.512885\n",
        "Color Purple, The (1985)               4.158192  3.659341 -0.498851\n",
        "Age of Innocence, The (1993)           3.827068  3.339506 -0.487561\n",
        "Free Willy (1993)                      2.921348  2.438776 -0.482573\n",
        "French Kiss (1995)                     3.535714  3.056962 -0.478752\n",
        "Little Shop of Horrors, The (1960)     3.650000  3.179688 -0.470312\n",
        "Guys and Dolls (1955)                  4.051724  3.583333 -0.468391\n",
        "Mary Poppins (1964)                    4.197740  3.730594 -0.467147\n",
        "Patch Adams (1998)                     3.473282  3.008746 -0.464536"
       ]
      }
     ],
     "prompt_number": 113
    },
    {
     "cell_type": "code",
     "collapsed": false,
     "input": [
      "sorted_by_diff[::-1][:15]"
     ],
     "language": "python",
     "metadata": {},
     "outputs": [
      {
       "html": [
        "<div style=\"max-height:1000px;max-width:1500px;overflow:auto;\">\n",
        "<table border=\"1\" class=\"dataframe\">\n",
        "  <thead>\n",
        "    <tr style=\"text-align: right;\">\n",
        "      <th>gender</th>\n",
        "      <th>F</th>\n",
        "      <th>M</th>\n",
        "      <th>diff</th>\n",
        "    </tr>\n",
        "    <tr>\n",
        "      <th>title</th>\n",
        "      <th></th>\n",
        "      <th></th>\n",
        "      <th></th>\n",
        "    </tr>\n",
        "  </thead>\n",
        "  <tbody>\n",
        "    <tr>\n",
        "      <th>Good, The Bad and The Ugly, The (1966)</th>\n",
        "      <td> 3.494949</td>\n",
        "      <td> 4.221300</td>\n",
        "      <td> 0.726351</td>\n",
        "    </tr>\n",
        "    <tr>\n",
        "      <th>Kentucky Fried Movie, The (1977)</th>\n",
        "      <td> 2.878788</td>\n",
        "      <td> 3.555147</td>\n",
        "      <td> 0.676359</td>\n",
        "    </tr>\n",
        "    <tr>\n",
        "      <th>Dumb &amp; Dumber (1994)</th>\n",
        "      <td> 2.697987</td>\n",
        "      <td> 3.336595</td>\n",
        "      <td> 0.638608</td>\n",
        "    </tr>\n",
        "    <tr>\n",
        "      <th>Longest Day, The (1962)</th>\n",
        "      <td> 3.411765</td>\n",
        "      <td> 4.031447</td>\n",
        "      <td> 0.619682</td>\n",
        "    </tr>\n",
        "    <tr>\n",
        "      <th>Cable Guy, The (1996)</th>\n",
        "      <td> 2.250000</td>\n",
        "      <td> 2.863787</td>\n",
        "      <td> 0.613787</td>\n",
        "    </tr>\n",
        "    <tr>\n",
        "      <th>Evil Dead II (Dead By Dawn) (1987)</th>\n",
        "      <td> 3.297297</td>\n",
        "      <td> 3.909283</td>\n",
        "      <td> 0.611985</td>\n",
        "    </tr>\n",
        "    <tr>\n",
        "      <th>Hidden, The (1987)</th>\n",
        "      <td> 3.137931</td>\n",
        "      <td> 3.745098</td>\n",
        "      <td> 0.607167</td>\n",
        "    </tr>\n",
        "    <tr>\n",
        "      <th>Rocky III (1982)</th>\n",
        "      <td> 2.361702</td>\n",
        "      <td> 2.943503</td>\n",
        "      <td> 0.581801</td>\n",
        "    </tr>\n",
        "    <tr>\n",
        "      <th>Caddyshack (1980)</th>\n",
        "      <td> 3.396135</td>\n",
        "      <td> 3.969737</td>\n",
        "      <td> 0.573602</td>\n",
        "    </tr>\n",
        "    <tr>\n",
        "      <th>For a Few Dollars More (1965)</th>\n",
        "      <td> 3.409091</td>\n",
        "      <td> 3.953795</td>\n",
        "      <td> 0.544704</td>\n",
        "    </tr>\n",
        "    <tr>\n",
        "      <th>Porky's (1981)</th>\n",
        "      <td> 2.296875</td>\n",
        "      <td> 2.836364</td>\n",
        "      <td> 0.539489</td>\n",
        "    </tr>\n",
        "    <tr>\n",
        "      <th>Animal House (1978)</th>\n",
        "      <td> 3.628906</td>\n",
        "      <td> 4.167192</td>\n",
        "      <td> 0.538286</td>\n",
        "    </tr>\n",
        "    <tr>\n",
        "      <th>Exorcist, The (1973)</th>\n",
        "      <td> 3.537634</td>\n",
        "      <td> 4.067239</td>\n",
        "      <td> 0.529605</td>\n",
        "    </tr>\n",
        "    <tr>\n",
        "      <th>Fright Night (1985)</th>\n",
        "      <td> 2.973684</td>\n",
        "      <td> 3.500000</td>\n",
        "      <td> 0.526316</td>\n",
        "    </tr>\n",
        "    <tr>\n",
        "      <th>Barb Wire (1996)</th>\n",
        "      <td> 1.585366</td>\n",
        "      <td> 2.100386</td>\n",
        "      <td> 0.515020</td>\n",
        "    </tr>\n",
        "  </tbody>\n",
        "</table>\n",
        "</div>"
       ],
       "metadata": {},
       "output_type": "pyout",
       "prompt_number": 114,
       "text": [
        "gender                                         F         M      diff\n",
        "title                                                               \n",
        "Good, The Bad and The Ugly, The (1966)  3.494949  4.221300  0.726351\n",
        "Kentucky Fried Movie, The (1977)        2.878788  3.555147  0.676359\n",
        "Dumb & Dumber (1994)                    2.697987  3.336595  0.638608\n",
        "Longest Day, The (1962)                 3.411765  4.031447  0.619682\n",
        "Cable Guy, The (1996)                   2.250000  2.863787  0.613787\n",
        "Evil Dead II (Dead By Dawn) (1987)      3.297297  3.909283  0.611985\n",
        "Hidden, The (1987)                      3.137931  3.745098  0.607167\n",
        "Rocky III (1982)                        2.361702  2.943503  0.581801\n",
        "Caddyshack (1980)                       3.396135  3.969737  0.573602\n",
        "For a Few Dollars More (1965)           3.409091  3.953795  0.544704\n",
        "Porky's (1981)                          2.296875  2.836364  0.539489\n",
        "Animal House (1978)                     3.628906  4.167192  0.538286\n",
        "Exorcist, The (1973)                    3.537634  4.067239  0.529605\n",
        "Fright Night (1985)                     2.973684  3.500000  0.526316\n",
        "Barb Wire (1996)                        1.585366  2.100386  0.515020"
       ]
      }
     ],
     "prompt_number": 114
    },
    {
     "cell_type": "code",
     "collapsed": false,
     "input": [
      "rating_std_by_title = data.groupby('title')['rating'].std()"
     ],
     "language": "python",
     "metadata": {},
     "outputs": [],
     "prompt_number": 116
    },
    {
     "cell_type": "code",
     "collapsed": false,
     "input": [
      "rating_std_by_title = rating_std_by_title.ix[active_titles]"
     ],
     "language": "python",
     "metadata": {},
     "outputs": [],
     "prompt_number": 117
    },
    {
     "cell_type": "code",
     "collapsed": false,
     "input": [
      "rating_std_by_title.order(ascending=False)[:10]"
     ],
     "language": "python",
     "metadata": {},
     "outputs": [
      {
       "metadata": {},
       "output_type": "pyout",
       "prompt_number": 118,
       "text": [
        "title\n",
        "Dumb & Dumber (1994)                     1.321333\n",
        "Blair Witch Project, The (1999)          1.316368\n",
        "Natural Born Killers (1994)              1.307198\n",
        "Tank Girl (1995)                         1.277695\n",
        "Rocky Horror Picture Show, The (1975)    1.260177\n",
        "Eyes Wide Shut (1999)                    1.259624\n",
        "Evita (1996)                             1.253631\n",
        "Billy Madison (1995)                     1.249970\n",
        "Fear and Loathing in Las Vegas (1998)    1.246408\n",
        "Bicentennial Man (1999)                  1.245533\n",
        "Name: rating, dtype: float64"
       ]
      }
     ],
     "prompt_number": 118
    },
    {
     "cell_type": "heading",
     "level": 2,
     "metadata": {},
     "source": [
      "US Baby Names 1880 - 2010"
     ]
    },
    {
     "cell_type": "code",
     "collapsed": false,
     "input": [
      "path = '/Users/sergulaydore/pydata-book/ch02/names/'"
     ],
     "language": "python",
     "metadata": {},
     "outputs": [],
     "prompt_number": 123
    },
    {
     "cell_type": "code",
     "collapsed": false,
     "input": [
      "!head -n 10 '/Users/sergulaydore/pydata-book/ch02/names/yob1880.txt'"
     ],
     "language": "python",
     "metadata": {},
     "outputs": [
      {
       "output_type": "stream",
       "stream": "stdout",
       "text": [
        "Mary,F,7065\r",
        "\r\n",
        "Anna,F,2604\r",
        "\r\n",
        "Emma,F,2003\r",
        "\r\n",
        "Elizabeth,F,1939\r",
        "\r\n",
        "Minnie,F,1746\r",
        "\r\n",
        "Margaret,F,1578\r",
        "\r\n",
        "Ida,F,1472\r",
        "\r\n",
        "Alice,F,1414\r",
        "\r\n",
        "Bertha,F,1320\r",
        "\r\n",
        "Sarah,F,1288\r",
        "\r\n"
       ]
      }
     ],
     "prompt_number": 122
    },
    {
     "cell_type": "code",
     "collapsed": false,
     "input": [
      "names1880 = pd.read_csv(path + 'yob1880.txt', names = ['name','sex','births'])"
     ],
     "language": "python",
     "metadata": {},
     "outputs": [],
     "prompt_number": 124
    },
    {
     "cell_type": "code",
     "collapsed": false,
     "input": [
      "names1880[:10]"
     ],
     "language": "python",
     "metadata": {},
     "outputs": [
      {
       "html": [
        "<div style=\"max-height:1000px;max-width:1500px;overflow:auto;\">\n",
        "<table border=\"1\" class=\"dataframe\">\n",
        "  <thead>\n",
        "    <tr style=\"text-align: right;\">\n",
        "      <th></th>\n",
        "      <th>name</th>\n",
        "      <th>sex</th>\n",
        "      <th>births</th>\n",
        "    </tr>\n",
        "  </thead>\n",
        "  <tbody>\n",
        "    <tr>\n",
        "      <th>0</th>\n",
        "      <td>      Mary</td>\n",
        "      <td> F</td>\n",
        "      <td> 7065</td>\n",
        "    </tr>\n",
        "    <tr>\n",
        "      <th>1</th>\n",
        "      <td>      Anna</td>\n",
        "      <td> F</td>\n",
        "      <td> 2604</td>\n",
        "    </tr>\n",
        "    <tr>\n",
        "      <th>2</th>\n",
        "      <td>      Emma</td>\n",
        "      <td> F</td>\n",
        "      <td> 2003</td>\n",
        "    </tr>\n",
        "    <tr>\n",
        "      <th>3</th>\n",
        "      <td> Elizabeth</td>\n",
        "      <td> F</td>\n",
        "      <td> 1939</td>\n",
        "    </tr>\n",
        "    <tr>\n",
        "      <th>4</th>\n",
        "      <td>    Minnie</td>\n",
        "      <td> F</td>\n",
        "      <td> 1746</td>\n",
        "    </tr>\n",
        "    <tr>\n",
        "      <th>5</th>\n",
        "      <td>  Margaret</td>\n",
        "      <td> F</td>\n",
        "      <td> 1578</td>\n",
        "    </tr>\n",
        "    <tr>\n",
        "      <th>6</th>\n",
        "      <td>       Ida</td>\n",
        "      <td> F</td>\n",
        "      <td> 1472</td>\n",
        "    </tr>\n",
        "    <tr>\n",
        "      <th>7</th>\n",
        "      <td>     Alice</td>\n",
        "      <td> F</td>\n",
        "      <td> 1414</td>\n",
        "    </tr>\n",
        "    <tr>\n",
        "      <th>8</th>\n",
        "      <td>    Bertha</td>\n",
        "      <td> F</td>\n",
        "      <td> 1320</td>\n",
        "    </tr>\n",
        "    <tr>\n",
        "      <th>9</th>\n",
        "      <td>     Sarah</td>\n",
        "      <td> F</td>\n",
        "      <td> 1288</td>\n",
        "    </tr>\n",
        "  </tbody>\n",
        "</table>\n",
        "</div>"
       ],
       "metadata": {},
       "output_type": "pyout",
       "prompt_number": 126,
       "text": [
        "        name sex  births\n",
        "0       Mary   F    7065\n",
        "1       Anna   F    2604\n",
        "2       Emma   F    2003\n",
        "3  Elizabeth   F    1939\n",
        "4     Minnie   F    1746\n",
        "5   Margaret   F    1578\n",
        "6        Ida   F    1472\n",
        "7      Alice   F    1414\n",
        "8     Bertha   F    1320\n",
        "9      Sarah   F    1288"
       ]
      }
     ],
     "prompt_number": 126
    },
    {
     "cell_type": "markdown",
     "metadata": {},
     "source": []
    },
    {
     "cell_type": "code",
     "collapsed": false,
     "input": [],
     "language": "python",
     "metadata": {},
     "outputs": []
    }
   ],
   "metadata": {}
  }
 ]
}